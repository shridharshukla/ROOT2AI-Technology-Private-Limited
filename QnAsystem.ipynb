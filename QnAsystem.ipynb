{
  "nbformat": 4,
  "nbformat_minor": 0,
  "metadata": {
    "colab": {
      "name": "QnAsystem.ipynb",
      "provenance": [],
      "collapsed_sections": []
    },
    "kernelspec": {
      "name": "python3",
      "display_name": "Python 3"
    },
    "language_info": {
      "name": "python"
    }
  },
  "cells": [
    {
      "cell_type": "markdown",
      "metadata": {
        "id": "Bay2h8Jm0Zq5"
      },
      "source": [
        "            Uttarakhand Flood  - QnA System"
      ]
    },
    {
      "cell_type": "code",
      "metadata": {
        "colab": {
          "base_uri": "https://localhost:8080/"
        },
        "id": "FlRdry3Lp_gW",
        "outputId": "2c91fab9-d3a1-4b37-aca5-3d6b68540772"
      },
      "source": [
        "%ls"
      ],
      "execution_count": null,
      "outputs": [
        {
          "output_type": "stream",
          "text": [
            "\u001b[0m\u001b[01;34msample_data\u001b[0m/\n"
          ],
          "name": "stdout"
        }
      ]
    },
    {
      "cell_type": "code",
      "metadata": {
        "colab": {
          "base_uri": "https://localhost:8080/"
        },
        "id": "0wP0A2ZWrdc-",
        "outputId": "d66d8920-c0ab-42d0-e340-5d94adb86249"
      },
      "source": [
        "from google.colab import drive\n",
        "drive.mount('/content/drive')"
      ],
      "execution_count": null,
      "outputs": [
        {
          "output_type": "stream",
          "text": [
            "Mounted at /content/drive\n"
          ],
          "name": "stdout"
        }
      ]
    },
    {
      "cell_type": "code",
      "metadata": {
        "colab": {
          "base_uri": "https://localhost:8080/"
        },
        "id": "k4Ik-2Riru8n",
        "outputId": "37c64a0c-84db-4871-ce23-7bca5e1c512e"
      },
      "source": [
        "%ls"
      ],
      "execution_count": null,
      "outputs": [
        {
          "output_type": "stream",
          "text": [
            "\u001b[0m\u001b[01;32manscombe.json\u001b[0m*                mnist_test.csv\n",
            "california_housing_test.csv   mnist_train_small.csv\n",
            "california_housing_train.csv  \u001b[01;32mREADME.md\u001b[0m*\n"
          ],
          "name": "stdout"
        }
      ]
    },
    {
      "cell_type": "code",
      "metadata": {
        "colab": {
          "base_uri": "https://localhost:8080/"
        },
        "id": "6xSO8g__uAVx",
        "outputId": "2c42b230-f18b-4a8e-80c8-92f5efed76ce"
      },
      "source": [
        "%cd .."
      ],
      "execution_count": null,
      "outputs": [
        {
          "output_type": "stream",
          "text": [
            "/content\n"
          ],
          "name": "stdout"
        }
      ]
    },
    {
      "cell_type": "code",
      "metadata": {
        "colab": {
          "base_uri": "https://localhost:8080/"
        },
        "id": "EaYDO2oHr72j",
        "outputId": "41608641-57a2-4a84-917f-f42ab9295358"
      },
      "source": [
        "%ls /content/"
      ],
      "execution_count": null,
      "outputs": [
        {
          "output_type": "stream",
          "text": [
            "\u001b[0m\u001b[01;34mdrive\u001b[0m/  \u001b[01;34msample_data\u001b[0m/\n"
          ],
          "name": "stdout"
        }
      ]
    },
    {
      "cell_type": "code",
      "metadata": {
        "colab": {
          "base_uri": "https://localhost:8080/"
        },
        "id": "eUEm04SusSBr",
        "outputId": "f1c26266-604a-4e04-9fd2-6583e362223e"
      },
      "source": [
        "%cd drive"
      ],
      "execution_count": null,
      "outputs": [
        {
          "output_type": "stream",
          "text": [
            "/content/drive\n"
          ],
          "name": "stdout"
        }
      ]
    },
    {
      "cell_type": "code",
      "metadata": {
        "colab": {
          "base_uri": "https://localhost:8080/"
        },
        "id": "_PSbbR8wsiRR",
        "outputId": "fb127792-f3c5-4813-c1d1-34f50a4b2501"
      },
      "source": [
        "%ls"
      ],
      "execution_count": null,
      "outputs": [
        {
          "output_type": "stream",
          "text": [
            "\u001b[0m\u001b[01;34mMyDrive\u001b[0m/  \u001b[01;34mShareddrives\u001b[0m/\n"
          ],
          "name": "stdout"
        }
      ]
    },
    {
      "cell_type": "code",
      "metadata": {
        "colab": {
          "base_uri": "https://localhost:8080/"
        },
        "id": "lkF6wEIfuaCO",
        "outputId": "07a806a8-f156-4ebe-b382-4c662a34d086"
      },
      "source": [
        "%cd MyDrive/"
      ],
      "execution_count": null,
      "outputs": [
        {
          "output_type": "stream",
          "text": [
            "/content/drive/MyDrive\n"
          ],
          "name": "stdout"
        }
      ]
    },
    {
      "cell_type": "code",
      "metadata": {
        "colab": {
          "base_uri": "https://localhost:8080/"
        },
        "id": "IX6yJ-igufv9",
        "outputId": "7a4c6273-3a5f-46a3-d4b9-59cba05743f7"
      },
      "source": [
        "%cd ROOT2AI_Technology_Private_Limited/"
      ],
      "execution_count": null,
      "outputs": [
        {
          "output_type": "stream",
          "text": [
            "/content/drive/MyDrive/ROOT2AI_Technology_Private_Limited\n"
          ],
          "name": "stdout"
        }
      ]
    },
    {
      "cell_type": "code",
      "metadata": {
        "id": "di1g9vTUurGR"
      },
      "source": [
        "import pandas as pd\n",
        "import numpy as np "
      ],
      "execution_count": null,
      "outputs": []
    },
    {
      "cell_type": "code",
      "metadata": {
        "id": "08TnVlZ3u9Zs"
      },
      "source": [
        "qna = pd.read_csv('qnacsv.csv')"
      ],
      "execution_count": null,
      "outputs": []
    },
    {
      "cell_type": "code",
      "metadata": {
        "colab": {
          "base_uri": "https://localhost:8080/",
          "height": 142
        },
        "id": "8A8QXGjhvfwt",
        "outputId": "6f8029e5-589b-46ce-99ef-2f249f40c47a"
      },
      "source": [
        "qna.head()"
      ],
      "execution_count": null,
      "outputs": [
        {
          "output_type": "execute_result",
          "data": {
            "text/html": [
              "<div>\n",
              "<style scoped>\n",
              "    .dataframe tbody tr th:only-of-type {\n",
              "        vertical-align: middle;\n",
              "    }\n",
              "\n",
              "    .dataframe tbody tr th {\n",
              "        vertical-align: top;\n",
              "    }\n",
              "\n",
              "    .dataframe thead th {\n",
              "        text-align: right;\n",
              "    }\n",
              "</style>\n",
              "<table border=\"1\" class=\"dataframe\">\n",
              "  <thead>\n",
              "    <tr style=\"text-align: right;\">\n",
              "      <th></th>\n",
              "      <th>Question</th>\n",
              "      <th>Answer</th>\n",
              "    </tr>\n",
              "  </thead>\n",
              "  <tbody>\n",
              "    <tr>\n",
              "      <th>0</th>\n",
              "      <td>What is the helpline number?</td>\n",
              "      <td>1200467332888</td>\n",
              "    </tr>\n",
              "    <tr>\n",
              "      <th>1</th>\n",
              "      <td>What happened in Uttarakhand?</td>\n",
              "      <td>Cloudburst</td>\n",
              "    </tr>\n",
              "    <tr>\n",
              "      <th>2</th>\n",
              "      <td>How many people are affected?</td>\n",
              "      <td>1000</td>\n",
              "    </tr>\n",
              "  </tbody>\n",
              "</table>\n",
              "</div>"
            ],
            "text/plain": [
              "                        Question         Answer\n",
              "0   What is the helpline number?  1200467332888\n",
              "1  What happened in Uttarakhand?     Cloudburst\n",
              "2  How many people are affected?           1000"
            ]
          },
          "metadata": {
            "tags": []
          },
          "execution_count": 22
        }
      ]
    },
    {
      "cell_type": "code",
      "metadata": {
        "id": "xaZi-ZgbwwqF"
      },
      "source": [
        "def getResults(questions, fn):\n",
        "    def getResult(q):\n",
        "        answer, score, prediction = fn(q)\n",
        "        return [q, prediction, answer, score]\n",
        "    return pd.DataFrame(list(map(getResult, questions)), columns=[\"Q\", \"Prediction\", \"A\", \"Score\"])\n",
        "test_data = [\n",
        "    \"What is the helpline number?\",\n",
        "    \"What happened in Uttarakhand?\",\n",
        "    \"How many people are affected?\t\",\n",
        "    \"How many people are affected?\",\n",
        "    \" What is the helpline number?\",\n",
        "    \"  What is the helpline number?\"\n",
        "]"
      ],
      "execution_count": null,
      "outputs": []
    },
    {
      "cell_type": "code",
      "metadata": {
        "colab": {
          "base_uri": "https://localhost:8080/",
          "height": 235
        },
        "id": "FA3YR7lfvl7C",
        "outputId": "aa2d4f9b-4f99-4b80-85b7-1d5afbe3c8a0"
      },
      "source": [
        "import re\n",
        "def getNaiveAnswer(q):\n",
        "    # regex helps to pass some punctuation signs\n",
        "    row = qna.loc[qna['Question'].str.contains(re.sub(r\"[^\\w'\\s)]+\", \"\", q),case=False)]\n",
        "    if len(row) > 0:\n",
        "        return row[\"Answer\"].values[0], 1, row[\"Question\"].values[0]\n",
        "    return \"Sorry, I didn't get you.\", 0, \"\"\n",
        "getResults(test_data, getNaiveAnswer)"
      ],
      "execution_count": null,
      "outputs": [
        {
          "output_type": "execute_result",
          "data": {
            "text/html": [
              "<div>\n",
              "<style scoped>\n",
              "    .dataframe tbody tr th:only-of-type {\n",
              "        vertical-align: middle;\n",
              "    }\n",
              "\n",
              "    .dataframe tbody tr th {\n",
              "        vertical-align: top;\n",
              "    }\n",
              "\n",
              "    .dataframe thead th {\n",
              "        text-align: right;\n",
              "    }\n",
              "</style>\n",
              "<table border=\"1\" class=\"dataframe\">\n",
              "  <thead>\n",
              "    <tr style=\"text-align: right;\">\n",
              "      <th></th>\n",
              "      <th>Q</th>\n",
              "      <th>Prediction</th>\n",
              "      <th>A</th>\n",
              "      <th>Score</th>\n",
              "    </tr>\n",
              "  </thead>\n",
              "  <tbody>\n",
              "    <tr>\n",
              "      <th>0</th>\n",
              "      <td>What is the helpline number?</td>\n",
              "      <td>What is the helpline number?</td>\n",
              "      <td>1200467332888</td>\n",
              "      <td>1</td>\n",
              "    </tr>\n",
              "    <tr>\n",
              "      <th>1</th>\n",
              "      <td>What happened in Uttarakhand?</td>\n",
              "      <td>What happened in Uttarakhand?</td>\n",
              "      <td>Cloudburst</td>\n",
              "      <td>1</td>\n",
              "    </tr>\n",
              "    <tr>\n",
              "      <th>2</th>\n",
              "      <td>How many people are affected?\\t</td>\n",
              "      <td></td>\n",
              "      <td>Sorry, I didn't get you.</td>\n",
              "      <td>0</td>\n",
              "    </tr>\n",
              "    <tr>\n",
              "      <th>3</th>\n",
              "      <td>How many people are affected?</td>\n",
              "      <td>How many people are affected?</td>\n",
              "      <td>1000</td>\n",
              "      <td>1</td>\n",
              "    </tr>\n",
              "    <tr>\n",
              "      <th>4</th>\n",
              "      <td>What is the helpline number?</td>\n",
              "      <td></td>\n",
              "      <td>Sorry, I didn't get you.</td>\n",
              "      <td>0</td>\n",
              "    </tr>\n",
              "    <tr>\n",
              "      <th>5</th>\n",
              "      <td>What is the helpline number?</td>\n",
              "      <td></td>\n",
              "      <td>Sorry, I didn't get you.</td>\n",
              "      <td>0</td>\n",
              "    </tr>\n",
              "  </tbody>\n",
              "</table>\n",
              "</div>"
            ],
            "text/plain": [
              "                                 Q  ... Score\n",
              "0     What is the helpline number?  ...     1\n",
              "1    What happened in Uttarakhand?  ...     1\n",
              "2  How many people are affected?\\t  ...     0\n",
              "3    How many people are affected?  ...     1\n",
              "4     What is the helpline number?  ...     0\n",
              "5     What is the helpline number?  ...     0\n",
              "\n",
              "[6 rows x 4 columns]"
            ]
          },
          "metadata": {
            "tags": []
          },
          "execution_count": 25
        }
      ]
    },
    {
      "cell_type": "code",
      "metadata": {
        "colab": {
          "base_uri": "https://localhost:8080/"
        },
        "id": "lm94YVtzyP3S",
        "outputId": "da4c4ce7-62ee-4bc8-aeae-0a402b556b3a"
      },
      "source": [
        "!pip install Levenshtein"
      ],
      "execution_count": null,
      "outputs": [
        {
          "output_type": "stream",
          "text": [
            "Collecting Levenshtein\n",
            "\u001b[?25l  Downloading https://files.pythonhosted.org/packages/8e/41/ff25ae28c972a63abde29cd5cea7c648ae0e16b334693cede0522e66dd68/levenshtein-0.12.0-cp37-cp37m-manylinux1_x86_64.whl (158kB)\n",
            "\r\u001b[K     |██                              | 10kB 3.8MB/s eta 0:00:01\r\u001b[K     |████▏                           | 20kB 6.7MB/s eta 0:00:01\r\u001b[K     |██████▏                         | 30kB 8.8MB/s eta 0:00:01\r\u001b[K     |████████▎                       | 40kB 10.9MB/s eta 0:00:01\r\u001b[K     |██████████▍                     | 51kB 5.4MB/s eta 0:00:01\r\u001b[K     |████████████▍                   | 61kB 5.8MB/s eta 0:00:01\r\u001b[K     |██████████████▌                 | 71kB 5.5MB/s eta 0:00:01\r\u001b[K     |████████████████▋               | 81kB 4.2MB/s eta 0:00:01\r\u001b[K     |██████████████████▋             | 92kB 4.4MB/s eta 0:00:01\r\u001b[K     |████████████████████▊           | 102kB 4.8MB/s eta 0:00:01\r\u001b[K     |██████████████████████▉         | 112kB 4.8MB/s eta 0:00:01\r\u001b[K     |████████████████████████▉       | 122kB 4.8MB/s eta 0:00:01\r\u001b[K     |███████████████████████████     | 133kB 4.8MB/s eta 0:00:01\r\u001b[K     |█████████████████████████████   | 143kB 4.8MB/s eta 0:00:01\r\u001b[K     |███████████████████████████████ | 153kB 4.8MB/s eta 0:00:01\r\u001b[K     |████████████████████████████████| 163kB 4.8MB/s \n",
            "\u001b[?25hRequirement already satisfied: setuptools in /usr/local/lib/python3.7/dist-packages (from Levenshtein) (54.1.2)\n",
            "Installing collected packages: Levenshtein\n",
            "Successfully installed Levenshtein-0.12.0\n"
          ],
          "name": "stdout"
        }
      ]
    },
    {
      "cell_type": "code",
      "metadata": {
        "colab": {
          "base_uri": "https://localhost:8080/",
          "height": 235
        },
        "id": "hUKYYPBOwde0",
        "outputId": "9430f028-0b73-47bd-d710-c9027d7b0926"
      },
      "source": [
        "from Levenshtein import ratio\n",
        "def getApproximateAnswer(q):\n",
        "    max_score = 0\n",
        "    answer = \"\"\n",
        "    prediction = \"\"\n",
        "    for idx, row in qna.iterrows():\n",
        "        score = ratio(row[\"Question\"], q)\n",
        "        if score >= 0.9: # I'm sure, stop here\n",
        "            return row[\"Answer\"], score, row[\"Question\"]\n",
        "        elif score > max_score: # I'm unsure, continue\n",
        "            max_score = score\n",
        "            answer = row[\"Answer\"]\n",
        "            prediction = row[\"Question\"]\n",
        "    if max_score > 0.8:\n",
        "        return answer, max_score, prediction\n",
        "    return \"Sorry, I didn't get you.\", max_score, prediction\n",
        "getResults(test_data, getApproximateAnswer)"
      ],
      "execution_count": null,
      "outputs": [
        {
          "output_type": "execute_result",
          "data": {
            "text/html": [
              "<div>\n",
              "<style scoped>\n",
              "    .dataframe tbody tr th:only-of-type {\n",
              "        vertical-align: middle;\n",
              "    }\n",
              "\n",
              "    .dataframe tbody tr th {\n",
              "        vertical-align: top;\n",
              "    }\n",
              "\n",
              "    .dataframe thead th {\n",
              "        text-align: right;\n",
              "    }\n",
              "</style>\n",
              "<table border=\"1\" class=\"dataframe\">\n",
              "  <thead>\n",
              "    <tr style=\"text-align: right;\">\n",
              "      <th></th>\n",
              "      <th>Q</th>\n",
              "      <th>Prediction</th>\n",
              "      <th>A</th>\n",
              "      <th>Score</th>\n",
              "    </tr>\n",
              "  </thead>\n",
              "  <tbody>\n",
              "    <tr>\n",
              "      <th>0</th>\n",
              "      <td>What is the helpline number?</td>\n",
              "      <td>What is the helpline number?</td>\n",
              "      <td>1200467332888</td>\n",
              "      <td>1.000000</td>\n",
              "    </tr>\n",
              "    <tr>\n",
              "      <th>1</th>\n",
              "      <td>What happened in Uttarakhand?</td>\n",
              "      <td>What happened in Uttarakhand?</td>\n",
              "      <td>Cloudburst</td>\n",
              "      <td>1.000000</td>\n",
              "    </tr>\n",
              "    <tr>\n",
              "      <th>2</th>\n",
              "      <td>How many people are affected?\\t</td>\n",
              "      <td>How many people are affected?</td>\n",
              "      <td>1000</td>\n",
              "      <td>0.983051</td>\n",
              "    </tr>\n",
              "    <tr>\n",
              "      <th>3</th>\n",
              "      <td>How many people are affected?</td>\n",
              "      <td>How many people are affected?</td>\n",
              "      <td>1000</td>\n",
              "      <td>1.000000</td>\n",
              "    </tr>\n",
              "    <tr>\n",
              "      <th>4</th>\n",
              "      <td>What is the helpline number?</td>\n",
              "      <td>What is the helpline number?</td>\n",
              "      <td>1200467332888</td>\n",
              "      <td>0.982456</td>\n",
              "    </tr>\n",
              "    <tr>\n",
              "      <th>5</th>\n",
              "      <td>What is the helpline number?</td>\n",
              "      <td>What is the helpline number?</td>\n",
              "      <td>1200467332888</td>\n",
              "      <td>0.965517</td>\n",
              "    </tr>\n",
              "  </tbody>\n",
              "</table>\n",
              "</div>"
            ],
            "text/plain": [
              "                                 Q  ...     Score\n",
              "0     What is the helpline number?  ...  1.000000\n",
              "1    What happened in Uttarakhand?  ...  1.000000\n",
              "2  How many people are affected?\\t  ...  0.983051\n",
              "3    How many people are affected?  ...  1.000000\n",
              "4     What is the helpline number?  ...  0.982456\n",
              "5     What is the helpline number?  ...  0.965517\n",
              "\n",
              "[6 rows x 4 columns]"
            ]
          },
          "metadata": {
            "tags": []
          },
          "execution_count": 29
        }
      ]
    },
    {
      "cell_type": "code",
      "metadata": {
        "colab": {
          "base_uri": "https://localhost:8080/",
          "height": 235
        },
        "id": "Mr_PYQilyENp",
        "outputId": "393aa4dc-6257-4ec2-d350-a9eaf7296d48"
      },
      "source": [
        "from Levenshtein import ratio\n",
        "def getApproximateAnswer2(q):\n",
        "    max_score = 0\n",
        "    answer = \"\"\n",
        "    prediction = \"\"\n",
        "    for idx, row in qna.iterrows():\n",
        "        score = ratio(row[\"Question\"], q)\n",
        "        if score >= 0.9: # I'm sure, stop here\n",
        "            return row[\"Answer\"], score, row[\"Question\"]\n",
        "        elif score > max_score: # I'm unsure, continue\n",
        "            max_score = score\n",
        "            answer = row[\"Answer\"]\n",
        "            prediction = row[\"Question\"]\n",
        "    if max_score > 0.3: # threshold is lowered\n",
        "        return answer, max_score, prediction\n",
        "    return \"Sorry, I didn't get you.\", max_score, prediction\n",
        "getResults(test_data, getApproximateAnswer2)"
      ],
      "execution_count": null,
      "outputs": [
        {
          "output_type": "execute_result",
          "data": {
            "text/html": [
              "<div>\n",
              "<style scoped>\n",
              "    .dataframe tbody tr th:only-of-type {\n",
              "        vertical-align: middle;\n",
              "    }\n",
              "\n",
              "    .dataframe tbody tr th {\n",
              "        vertical-align: top;\n",
              "    }\n",
              "\n",
              "    .dataframe thead th {\n",
              "        text-align: right;\n",
              "    }\n",
              "</style>\n",
              "<table border=\"1\" class=\"dataframe\">\n",
              "  <thead>\n",
              "    <tr style=\"text-align: right;\">\n",
              "      <th></th>\n",
              "      <th>Q</th>\n",
              "      <th>Prediction</th>\n",
              "      <th>A</th>\n",
              "      <th>Score</th>\n",
              "    </tr>\n",
              "  </thead>\n",
              "  <tbody>\n",
              "    <tr>\n",
              "      <th>0</th>\n",
              "      <td>What is the helpline number?</td>\n",
              "      <td>What is the helpline number?</td>\n",
              "      <td>1200467332888</td>\n",
              "      <td>1.000000</td>\n",
              "    </tr>\n",
              "    <tr>\n",
              "      <th>1</th>\n",
              "      <td>What happened in Uttarakhand?</td>\n",
              "      <td>What happened in Uttarakhand?</td>\n",
              "      <td>Cloudburst</td>\n",
              "      <td>1.000000</td>\n",
              "    </tr>\n",
              "    <tr>\n",
              "      <th>2</th>\n",
              "      <td>How many people are affected?\\t</td>\n",
              "      <td>How many people are affected?</td>\n",
              "      <td>1000</td>\n",
              "      <td>0.983051</td>\n",
              "    </tr>\n",
              "    <tr>\n",
              "      <th>3</th>\n",
              "      <td>How many people are affected?</td>\n",
              "      <td>How many people are affected?</td>\n",
              "      <td>1000</td>\n",
              "      <td>1.000000</td>\n",
              "    </tr>\n",
              "    <tr>\n",
              "      <th>4</th>\n",
              "      <td>What is the helpline number?</td>\n",
              "      <td>What is the helpline number?</td>\n",
              "      <td>1200467332888</td>\n",
              "      <td>0.982456</td>\n",
              "    </tr>\n",
              "    <tr>\n",
              "      <th>5</th>\n",
              "      <td>What is the helpline number?</td>\n",
              "      <td>What is the helpline number?</td>\n",
              "      <td>1200467332888</td>\n",
              "      <td>0.965517</td>\n",
              "    </tr>\n",
              "  </tbody>\n",
              "</table>\n",
              "</div>"
            ],
            "text/plain": [
              "                                 Q  ...     Score\n",
              "0     What is the helpline number?  ...  1.000000\n",
              "1    What happened in Uttarakhand?  ...  1.000000\n",
              "2  How many people are affected?\\t  ...  0.983051\n",
              "3    How many people are affected?  ...  1.000000\n",
              "4     What is the helpline number?  ...  0.982456\n",
              "5     What is the helpline number?  ...  0.965517\n",
              "\n",
              "[6 rows x 4 columns]"
            ]
          },
          "metadata": {
            "tags": []
          },
          "execution_count": 31
        }
      ]
    },
    {
      "cell_type": "code",
      "metadata": {
        "id": "vFigAcWAy3tG"
      },
      "source": [
        ""
      ],
      "execution_count": null,
      "outputs": []
    },
    {
      "cell_type": "markdown",
      "metadata": {
        "id": "u7etEHoK0D24"
      },
      "source": [
        "# **End**\n",
        "\n",
        "\n",
        "\n"
      ]
    }
  ]
}